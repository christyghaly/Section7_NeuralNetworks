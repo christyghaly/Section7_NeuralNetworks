{
 "cells": [
  {
   "cell_type": "markdown",
   "metadata": {},
   "source": [
    "## Section 7\n",
    "### Neural Networks "
   ]
  },
  {
   "cell_type": "markdown",
   "metadata": {},
   "source": [
    "The Perceptron\n",
    "The Perceptron is one of the simplest ANN architectures,It is based on a slightly different artificial neuron (See the next figure)called a threshold logic unit (TLU), or sometimes a linear threshold unit (LTU): the inputs\n",
    "and output are now numbers (instead of binary on/off values) and each input connection\n",
    "is associated with a weight. The TLU computes a weighted sum of its inputs\n",
    "(z = w1 x1 + w2 x2 + ⋯ + wn xn = xT w), then applies a step function to that sum and\n",
    "outputs the result:$ h_w(x) = step(z) $, where $ z = x^T w $ \n",
    "the following function is the common step function (sgn function)\n",
    "<img src=\"sgnFunction.png\">"
   ]
  },
  {
   "cell_type": "markdown",
   "metadata": {},
   "source": [
    "<img src=\"TLU.png\">"
   ]
  },
  {
   "cell_type": "markdown",
   "metadata": {},
   "source": [
    "A single TLU can be used for simple linear binary classification. It computes a linear\n",
    "combination of the inputs and if the result exceeds a threshold, it outputs the positive\n",
    "class or else outputs the negative class. For example, you could use a single TLU to classify iris flowers based on\n",
    "the petal length and width,also adding an extra bias feature $ x_0 = 1.$"
   ]
  },
  {
   "cell_type": "code",
   "execution_count": 8,
   "metadata": {},
   "outputs": [
    {
     "data": {
      "text/plain": [
       "Perceptron(random_state=42)"
      ]
     },
     "execution_count": 8,
     "metadata": {},
     "output_type": "execute_result"
    }
   ],
   "source": [
    "import numpy as np\n",
    "from sklearn.datasets import load_iris\n",
    "from sklearn.linear_model import Perceptron\n",
    "iris = load_iris()\n",
    "X = iris.data[:, (2, 3)] # petal length, petal width\n",
    "y = (iris.target == 0).astype(np.int) # Iris Setosa?\n",
    "per_clf = Perceptron(random_state=42)\n",
    "per_clf.fit(X, y)\n",
    "\n",
    "\n"
   ]
  },
  {
   "cell_type": "markdown",
   "metadata": {},
   "source": [
    "See the follwoing figure to see that the classes in the 2 feature space are linearly separable\n"
   ]
  },
  {
   "cell_type": "code",
   "execution_count": 10,
   "metadata": {},
   "outputs": [
    {
     "data": {
      "text/plain": [
       "<matplotlib.collections.PathCollection at 0x28ae23e8160>"
      ]
     },
     "execution_count": 10,
     "metadata": {},
     "output_type": "execute_result"
    },
    {
     "data": {
      "image/png": "[encoded data removed]",
      "text/plain": [
       "<Figure size 432x288 with 1 Axes>"
      ]
     },
     "metadata": {
      "needs_background": "light"
     },
     "output_type": "display_data"
    }
   ],
   "source": [
    "\n",
    "from matplotlib import pyplot\n",
    "X.shape\n",
    "c=y\n",
    "pyplot.scatter(X[:,0],X[:,1],c=c)"
   ]
  },
  {
   "cell_type": "code",
   "execution_count": 11,
   "metadata": {},
   "outputs": [
    {
     "data": {
      "text/plain": [
       "array([1])"
      ]
     },
     "execution_count": 11,
     "metadata": {},
     "output_type": "execute_result"
    }
   ],
   "source": [
    "y_pred = per_clf.predict([[2, 0.5]])\n",
    "y_pred"
   ]
  },
  {
   "cell_type": "code",
   "execution_count": 12,
   "metadata": {},
   "outputs": [
    {
     "data": {
      "text/plain": [
       "array([1, 1, 1, 1, 1, 1, 1, 1, 1, 1, 1, 1, 1, 1, 1, 1, 1, 1, 1, 1, 1, 1,\n",
       "       1, 1, 1, 1, 1, 1, 1, 1, 1, 1, 1, 1, 1, 1, 1, 1, 1, 1, 1, 1, 1, 1,\n",
       "       1, 1, 1, 1, 1, 1, 0, 0, 0, 0, 0, 0, 0, 0, 0, 0, 0, 0, 0, 0, 0, 0,\n",
       "       0, 0, 0, 0, 0, 0, 0, 0, 0, 0, 0, 0, 0, 0, 0, 0, 0, 0, 0, 0, 0, 0,\n",
       "       0, 0, 0, 0, 0, 0, 0, 0, 0, 0, 0, 0, 0, 0, 0, 0, 0, 0, 0, 0, 0, 0,\n",
       "       0, 0, 0, 0, 0, 0, 0, 0, 0, 0, 0, 0, 0, 0, 0, 0, 0, 0, 0, 0, 0, 0,\n",
       "       0, 0, 0, 0, 0, 0, 0, 0, 0, 0, 0, 0, 0, 0, 0, 0, 0, 0])"
      ]
     },
     "execution_count": 12,
     "metadata": {},
     "output_type": "execute_result"
    }
   ],
   "source": [
    "y"
   ]
  },
  {
   "cell_type": "markdown",
   "metadata": {},
   "source": [
    "A Single TLU is incapable of solving some trivial problems (e.g., the Exclusive OR (XOR)\n",
    "classification problem) if the data are not linearly separable Single LTU needs to be changed with Multi-Layer Perceptron. However, it turns out that some of the limitations of Perceptrons can be eliminated by\n",
    "stacking multiple Perceptrons. The resulting ANN is called a Multi-Layer Perceptron\n",
    "(MLP)."
   ]
  },
  {
   "cell_type": "markdown",
   "metadata": {},
   "source": [
    "##### How to analyze the problem\n",
    "* if The problem is not linearly separable so Single preceptron can't solve the problem\n",
    "* number of output neurons equal to number of output classes\n",
    "\n"
   ]
  },
  {
   "cell_type": "markdown",
   "metadata": {},
   "source": [
    "<img src=\"xorProblem.png\">"
   ]
  },
  {
   "cell_type": "markdown",
   "metadata": {},
   "source": [
    "By applying these rules to XOR problem, the problem will have more than one preceptron and it has one output neuron as output will be 0 or 1, see the following figure for the graph of neural network for XOR, All\n",
    "connections have a weight equal to 1, except the four connections where the weight is\n",
    "shown.\n",
    "<img src=\"XORpro.png\">"
   ]
  },
  {
   "cell_type": "markdown",
   "metadata": {},
   "source": [
    "### Multi-Layer Perceptron and Backpropagation\n",
    "An MLP is composed of one (passthrough) input layer, one or more layers of TLUs,\n",
    "called hidden layers, and one final layer of TLUs called the output layer (see\n",
    "the following figure). The layers close to the input layer are usually called the lower layers,\n",
    "and the ones close to the outputs are usually called the upper layers. Every layer\n",
    "except the output layer includes a bias neuron and is fully connected to the next layer.\n",
    "<img src=\"MLP.png\">"
   ]
  },
  {
   "cell_type": "markdown",
   "metadata": {},
   "source": [
    "to train MLPs, without success use the backpropagation training algorithm, which is simply Gradient Descent algorithm using an efficient technique for computing the gradients automatically: in just two\n",
    "passes through the network (one forward, one backward), the backpropagation algorithm\n",
    "is able to compute the gradient of the network’s error with regards to every single\n",
    "model parameter. In other words, it can find out how each connection weight and\n",
    "each bias term should be tweaked in order to reduce the error. Once it has these gradients,\n",
    "it just performs a regular Gradient Descent step, and the whole process is\n",
    "repeated until the network converges to the solution."
   ]
  },
  {
   "cell_type": "markdown",
   "metadata": {},
   "source": [
    "### Steps for implementation\n",
    "1. Forward propagation\n",
    "2. Backward Propagation\n",
    "\n",
    "\n",
    "for each training instance the backpropagation algorithm first makes a prediction (forward pass) by initializing weights,\n",
    "measures the error, then goes through each layer in reverse to measure the error contribution\n",
    "from each connection (reverse pass), and finally slightly tweaks the connection\n",
    "weights to reduce the error (Gradient Descent step)."
   ]
  },
  {
   "cell_type": "markdown",
   "metadata": {},
   "source": [
    "<img src=\"1.png\">\n",
    "<img src=\"2.png\">\n",
    "<img src=\"9.png\">\n",
    "<img src=\"3.png\">\n",
    "<img src=\"4.png\">\n",
    "<img src=\"5.png\">\n",
    "<img src=\"6.png\">\n",
    "<img src=\"7.png\">\n",
    "<img src=\"8.png\">\n",
    "<img src=\"10.png\">\n"
   ]
  },
  {
   "cell_type": "code",
   "execution_count": null,
   "metadata": {},
   "outputs": [],
   "source": []
  }
 ],
 "metadata": {
  "kernelspec": {
   "display_name": "Python 3",
   "language": "python",
   "name": "python3"
  },
  "language_info": {
   "codemirror_mode": {
    "name": "ipython",
    "version": 3
   },
   "file_extension": ".py",
   "mimetype": "text/x-python",
   "name": "python",
   "nbconvert_exporter": "python",
   "pygments_lexer": "ipython3",
   "version": "3.8.3"
  }
 },
 "nbformat": 4,
 "nbformat_minor": 4
}
